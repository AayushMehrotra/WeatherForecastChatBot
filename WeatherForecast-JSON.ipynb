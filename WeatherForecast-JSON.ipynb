{
 "cells": [
  {
   "cell_type": "markdown",
   "metadata": {},
   "source": [
    "# WEATHER CHAT BOT"
   ]
  },
  {
   "cell_type": "code",
   "execution_count": 1,
   "metadata": {
    "collapsed": true
   },
   "outputs": [],
   "source": [
    "import numpy as np\n",
    "import pandas as pd\n",
    "from nltk.corpus import stopwords\n",
    "from nltk.tokenize import sent_tokenize, word_tokenize\n",
    "import re\n",
    "import nltk\n",
    "from nltk.stem import PorterStemmer\n",
    "from nltk.stem import WordNetLemmatizer\n",
    "from nltk.corpus import wordnet\n",
    "from itertools import chain\n",
    "from nltk import NaiveBayesClassifier as nbc\n",
    "import codecs\n",
    "import json\n",
    "from urllib.request import urlopen\n",
    "import datefinder\n",
    "import datetime,time\n",
    "from dateutil import parser\n",
    "from nltk.tag.stanford import StanfordNERTagger\n",
    "import pywapi\n",
    "import random\n",
    "import string"
   ]
  },
  {
   "cell_type": "markdown",
   "metadata": {},
   "source": [
    "# Get date"
   ]
  },
  {
   "cell_type": "code",
   "execution_count": 2,
   "metadata": {},
   "outputs": [],
   "source": [
    "# def get_day_of_week(question):\n",
    "\n",
    "#     question = question.lower()\n",
    "#     matches = list(datefinder.find_dates(question))\n",
    "#     words_in_question = nltk.word_tokenize(question)\n",
    "#     today = datetime.date.today()\n",
    "    \n",
    "#     day_of_week = {\n",
    "        \n",
    "#         \"today\": lambda: (today.strftime('%A')),\n",
    "#         \"day after tomorrow\": lambda: ((today + datetime.timedelta(days = 2)).strftime('%A')),\n",
    "#         \"tomorrow\": lambda: ((today + datetime.timedelta(days = 1)).strftime('%A')),\n",
    "#         \"default\": lambda: (today.strftime('%A'))\n",
    "#     }\n",
    "    \n",
    "#     if len(matches) > 0:\n",
    "#         date = matches[0]\n",
    "#         day = date.strftime('%A')\n",
    "    \n",
    "#     else:\n",
    "#         intersected_days = (words_in_question & day_of_week.keys())\n",
    "#         day = [day_of_week[day]() for day in intersected_days][0] if intersected_days else day_of_week['default']()\n",
    "#     return day"
   ]
  },
  {
   "cell_type": "code",
   "execution_count": 3,
   "metadata": {
    "collapsed": true
   },
   "outputs": [],
   "source": [
    "def get_day_of_week(question):\n",
    "\n",
    "    question = question.lower()\n",
    "    matches = list(datefinder.find_dates(question))\n",
    "\n",
    "    if len(matches) > 0:\n",
    "        date = matches[0]\n",
    "        day = date.strftime('%A')\n",
    "        \n",
    "    else:\n",
    "        if 'today' in question:\n",
    "            day = ((datetime.date.today()).strftime('%A'))\n",
    "            \n",
    "        elif 'day after tomorrow' in question:\n",
    "            day = ((datetime.date.today() + datetime.timedelta(days = 2)).strftime('%A'))\n",
    "            \n",
    "        elif 'tomorrow' in question:\n",
    "            day = ((datetime.date.today() + datetime.timedelta(days = 1)).strftime('%A'))\n",
    "            \n",
    "        else:\n",
    "            day = ((datetime.date.today()).strftime('%A'))\n",
    "            \n",
    "    return day"
   ]
  },
  {
   "cell_type": "markdown",
   "metadata": {
    "collapsed": true
   },
   "source": [
    "# Get Location"
   ]
  },
  {
   "cell_type": "code",
   "execution_count": 4,
   "metadata": {
    "collapsed": true
   },
   "outputs": [],
   "source": [
    "def get_location(question):\n",
    "    \n",
    "    location_tagger = StanfordNERTagger('Tagger/stanford-ner-2016-10-31/classifiers/english.all.3class.distsim.crf.ser.gz', 'Tagger/stanford-ner-2016-10-31/stanford-ner-3.7.0.jar')\n",
    "    question = question.title()\n",
    "    tag = location_tagger.tag(question.split())\n",
    "    loc_word = ''\n",
    "    for word,tag in tag:\n",
    "        if(tag == 'LOCATION'):\n",
    "            loc_word = loc_word + \", \" + word\n",
    "        loc_word = loc_word.strip()\n",
    "    if loc_word == '':\n",
    "        loc_word = 'No Location'\n",
    "    return loc_word"
   ]
  },
  {
   "cell_type": "markdown",
   "metadata": {},
   "source": [
    "# Get location id for that city"
   ]
  },
  {
   "cell_type": "code",
   "execution_count": 7,
   "metadata": {
    "collapsed": true
   },
   "outputs": [],
   "source": [
    "def get_location_id(city):\n",
    " # Get location ID for that city\n",
    "    count = 0\n",
    "    lookup = pywapi.get_location_ids(city)\n",
    "    while len(lookup) != 1:\n",
    "        if len(lookup) > 1:\n",
    "            for key,value in lookup.items():\n",
    "                if 'India' in value:\n",
    "                    location_id = key\n",
    "                    city = value\n",
    "                    flag = False\n",
    "                    break\n",
    "        if flag == False:\n",
    "            break\n",
    "        if len(lookup) == 0:\n",
    "            print('Curent Location ',city,' is unable to locate')\n",
    "            city = input('Please provide the location correctly: ')\n",
    "            count += 1\n",
    "            lookup = pywapi.get_location_ids(city)\n",
    "            if count == 2:\n",
    "                city = input('Please provide the best nearest location, we are unable to find that for you : ')\n",
    "                lookup = pywapi.get_location_ids(city)\n",
    "    for k in lookup:\n",
    "        location_id = k\n",
    "    return location_id,city"
   ]
  },
  {
   "cell_type": "markdown",
   "metadata": {},
   "source": [
    "# Get weather of that Day"
   ]
  },
  {
   "cell_type": "code",
   "execution_count": 5,
   "metadata": {
    "collapsed": true
   },
   "outputs": [],
   "source": [
    "def get_weather_of_day(weather_com,day_of_week):\n",
    "    weekday = ''\n",
    "    for get_day in range(len(weather_com['forecasts'])):\n",
    "        if day_of_week == weather_com['forecasts'][get_day]['day_of_week']:\n",
    "            weekday = get_day\n",
    "            break\n",
    "    return weekday"
   ]
  },
  {
   "cell_type": "markdown",
   "metadata": {},
   "source": [
    "# Get weather for that location"
   ]
  },
  {
   "cell_type": "code",
   "execution_count": 9,
   "metadata": {
    "collapsed": true
   },
   "outputs": [],
   "source": [
    "def get_weather_com(location_id):\n",
    "    weather_com = pywapi.get_weather_from_weather_com(location_id) \n",
    "    return weather_com"
   ]
  },
  {
   "cell_type": "markdown",
   "metadata": {},
   "source": [
    "# Getting the train Data"
   ]
  },
  {
   "cell_type": "code",
   "execution_count": 10,
   "metadata": {
    "collapsed": true
   },
   "outputs": [],
   "source": [
    "def get_traindata():\n",
    "    train_csv = pd.read_csv('weathertrain.csv',header= None,names = ['sentence','label'])\n",
    "    subset = train_csv[['sentence', 'label']]\n",
    "    tuples = [tuple(x) for x in subset.values]\n",
    "    return tuples"
   ]
  },
  {
   "cell_type": "markdown",
   "metadata": {},
   "source": [
    "# Training the data"
   ]
  },
  {
   "cell_type": "code",
   "execution_count": 11,
   "metadata": {
    "collapsed": true
   },
   "outputs": [],
   "source": [
    "def trainNBC():\n",
    "    data = get_traindata()\n",
    "    stop_words = set(stopwords.words(\"english\"))\n",
    "    d1 = [(' '.join(list((i for i in word_tokenize(sentence) if i not in stop_words))),tag) for sentence, tag in data ]\n",
    "    vocabulary = set(chain(*[word_tokenize(i[0].lower()) for i in d1 if i not in stop_words]))\n",
    "    feature_set = [({i:(i in word_tokenize(sentence.lower())) for i in vocabulary},tag) for sentence, tag in d1]\n",
    "    classifier = nbc.train(feature_set)\n",
    "    return vocabulary,classifier"
   ]
  },
  {
   "cell_type": "markdown",
   "metadata": {},
   "source": [
    "# Classifier for getting class"
   ]
  },
  {
   "cell_type": "code",
   "execution_count": 12,
   "metadata": {
    "collapsed": true
   },
   "outputs": [],
   "source": [
    "def get_class(query):\n",
    "    test_sentence = query\n",
    "    vocabulary,classifier = trainNBC()\n",
    "    featurized_test_sentence =  {i:(i in word_tokenize(test_sentence.lower())) for i in vocabulary}\n",
    "    ans = classifier.classify(featurized_test_sentence)\n",
    "    return ans"
   ]
  },
  {
   "cell_type": "markdown",
   "metadata": {},
   "source": [
    "# Get Results"
   ]
  },
  {
   "cell_type": "code",
   "execution_count": 8,
   "metadata": {
    "collapsed": true
   },
   "outputs": [],
   "source": [
    "def get_weather(city,day_of_week,old_category):\n",
    "  # Getting location id for that city  \n",
    "    location_id, city = get_location_id(city)\n",
    " # Getting weather data for that city\n",
    "    weather_com = pywapi.get_weather_from_weather_com(location_id)    \n",
    "  # Getting weather data for that day\n",
    "    weekday = get_weather_of_day(weather_com,day_of_week)\n",
    "    if weekday == '':\n",
    "        return None,None,None\n",
    "    weekday_weather = weather_com['forecasts'][weekday]\n",
    "    max_list = ['max','maximum','hot','hottest','most']\n",
    "    min_list = ['min','minimum','least','coolest','coldest']\n",
    "    avg_list = ['average','avg','mean']\n",
    "    category = get_class(query)\n",
    "    if category == None:\n",
    "        category = old_category\n",
    "    if category == 'temperature':\n",
    "        output = ''\n",
    "        flag = False\n",
    "        for k in max_list:\n",
    "            if k in query.lower():\n",
    "                output = weekday_weather['high']\n",
    "                flag = True\n",
    "                break\n",
    "        for k in min_list:\n",
    "            if k in query.lower():\n",
    "                output = weekday_weather['low']\n",
    "                flag = True\n",
    "                break\n",
    "        for k in avg_list:\n",
    "            if k in query.lower():\n",
    "                output = (int(weekday_weather['high']) + int(weekday_weather['low']))/2\n",
    "                flag = True\n",
    "                break\n",
    "        if flag == False:\n",
    "            output = weather_com['current_conditions']['temperature']\n",
    "        output = str(output) + ' degree celsius'\n",
    "    elif category == 'rain':\n",
    "        day_data = weekday_weather['day']['chance_precip']\n",
    "        night_data = weekday_weather['night']['chance_precip']\n",
    "        if day_data != '':\n",
    "            day_data = 'Durind day -' + day_data + '%'\n",
    "        if night_data != '':\n",
    "            night_data = ' During night -' + night_data + '%'\n",
    "        output = day_data + night_data\n",
    "    elif category == 'weather':\n",
    "        day_data = weekday_weather['day']['text']\n",
    "        night_data = weekday_weather['night']['text']\n",
    "        if day_data != '':\n",
    "            day_data = 'During day - ' + day_data\n",
    "        if night_data != '':\n",
    "            night_data = ' During night -' + night_data\n",
    "        output = day_data + night_data \n",
    "    return output,city,category"
   ]
  },
  {
   "cell_type": "markdown",
   "metadata": {
    "collapsed": true
   },
   "source": [
    "# Check for greetings \n"
   ]
  },
  {
   "cell_type": "code",
   "execution_count": 13,
   "metadata": {
    "collapsed": true
   },
   "outputs": [],
   "source": [
    "GREETING_KEYWORDS = (\"hello\", \"hi\", \"greetings\", \"sup\", \"what's up\",)\n",
    "\n",
    "GREETING_RESPONSES = [\"'sup bro\", \"hey\", \"*nods*\", \"hey you get my snap?\"]\n",
    "\n",
    "def check_for_greeting(sentence):\n",
    "    \"\"\"If any of the words in the user's input was a greeting, return a greeting response\"\"\"\n",
    "    for word in word_tokenize(sentence):\n",
    "        if word.lower() in GREETING_KEYWORDS:\n",
    "            return random.choice(GREETING_RESPONSES)\n",
    "        else:\n",
    "            return \"Nothing\""
   ]
  },
  {
   "cell_type": "markdown",
   "metadata": {
    "collapsed": true
   },
   "source": [
    "# Get User Input and produce output"
   ]
  },
  {
   "cell_type": "code",
   "execution_count": 15,
   "metadata": {},
   "outputs": [
    {
     "name": "stdout",
     "output_type": "stream",
     "text": [
      "Hello! What do you want to know ? temperature in pune?\n",
      "Getting details for: Pune\n",
      "32 degree celsius\n",
      "Hello! What do you want to know ? weather in pune?\n",
      "Getting details for: Pune\n",
      " During night -T-Storms\n",
      "Hello! What do you want to know ? rain?\n",
      "Durind day -0% During night -0%\n",
      "Hello! What do you want to know ? minimum temperature?\n",
      "23 degree celsius\n"
     ]
    },
    {
     "ename": "KeyboardInterrupt",
     "evalue": "",
     "output_type": "error",
     "traceback": [
      "\u001b[0;31m---------------------------------------------------------------------------\u001b[0m",
      "\u001b[0;31mKeyboardInterrupt\u001b[0m                         Traceback (most recent call last)",
      "\u001b[0;32m/home/user/WeatheForecast/lib/python3.5/site-packages/ipykernel/kernelbase.py\u001b[0m in \u001b[0;36m_input_request\u001b[0;34m(self, prompt, ident, parent, password)\u001b[0m\n\u001b[1;32m    729\u001b[0m             \u001b[0;32mtry\u001b[0m\u001b[0;34m:\u001b[0m\u001b[0;34m\u001b[0m\u001b[0m\n\u001b[0;32m--> 730\u001b[0;31m                 \u001b[0mident\u001b[0m\u001b[0;34m,\u001b[0m \u001b[0mreply\u001b[0m \u001b[0;34m=\u001b[0m \u001b[0mself\u001b[0m\u001b[0;34m.\u001b[0m\u001b[0msession\u001b[0m\u001b[0;34m.\u001b[0m\u001b[0mrecv\u001b[0m\u001b[0;34m(\u001b[0m\u001b[0mself\u001b[0m\u001b[0;34m.\u001b[0m\u001b[0mstdin_socket\u001b[0m\u001b[0;34m,\u001b[0m \u001b[0;36m0\u001b[0m\u001b[0;34m)\u001b[0m\u001b[0;34m\u001b[0m\u001b[0m\n\u001b[0m\u001b[1;32m    731\u001b[0m             \u001b[0;32mexcept\u001b[0m \u001b[0mException\u001b[0m\u001b[0;34m:\u001b[0m\u001b[0;34m\u001b[0m\u001b[0m\n",
      "\u001b[0;32m/home/user/WeatheForecast/lib/python3.5/site-packages/jupyter_client/session.py\u001b[0m in \u001b[0;36mrecv\u001b[0;34m(self, socket, mode, content, copy)\u001b[0m\n\u001b[1;32m    777\u001b[0m         \u001b[0;32mtry\u001b[0m\u001b[0;34m:\u001b[0m\u001b[0;34m\u001b[0m\u001b[0m\n\u001b[0;32m--> 778\u001b[0;31m             \u001b[0mmsg_list\u001b[0m \u001b[0;34m=\u001b[0m \u001b[0msocket\u001b[0m\u001b[0;34m.\u001b[0m\u001b[0mrecv_multipart\u001b[0m\u001b[0;34m(\u001b[0m\u001b[0mmode\u001b[0m\u001b[0;34m,\u001b[0m \u001b[0mcopy\u001b[0m\u001b[0;34m=\u001b[0m\u001b[0mcopy\u001b[0m\u001b[0;34m)\u001b[0m\u001b[0;34m\u001b[0m\u001b[0m\n\u001b[0m\u001b[1;32m    779\u001b[0m         \u001b[0;32mexcept\u001b[0m \u001b[0mzmq\u001b[0m\u001b[0;34m.\u001b[0m\u001b[0mZMQError\u001b[0m \u001b[0;32mas\u001b[0m \u001b[0me\u001b[0m\u001b[0;34m:\u001b[0m\u001b[0;34m\u001b[0m\u001b[0m\n",
      "\u001b[0;32m/home/user/WeatheForecast/lib/python3.5/site-packages/zmq/sugar/socket.py\u001b[0m in \u001b[0;36mrecv_multipart\u001b[0;34m(self, flags, copy, track)\u001b[0m\n\u001b[1;32m    394\u001b[0m         \"\"\"\n\u001b[0;32m--> 395\u001b[0;31m         \u001b[0mparts\u001b[0m \u001b[0;34m=\u001b[0m \u001b[0;34m[\u001b[0m\u001b[0mself\u001b[0m\u001b[0;34m.\u001b[0m\u001b[0mrecv\u001b[0m\u001b[0;34m(\u001b[0m\u001b[0mflags\u001b[0m\u001b[0;34m,\u001b[0m \u001b[0mcopy\u001b[0m\u001b[0;34m=\u001b[0m\u001b[0mcopy\u001b[0m\u001b[0;34m,\u001b[0m \u001b[0mtrack\u001b[0m\u001b[0;34m=\u001b[0m\u001b[0mtrack\u001b[0m\u001b[0;34m)\u001b[0m\u001b[0;34m]\u001b[0m\u001b[0;34m\u001b[0m\u001b[0m\n\u001b[0m\u001b[1;32m    396\u001b[0m         \u001b[0;31m# have first part already, only loop while more to receive\u001b[0m\u001b[0;34m\u001b[0m\u001b[0;34m\u001b[0m\u001b[0m\n",
      "\u001b[0;32mzmq/backend/cython/socket.pyx\u001b[0m in \u001b[0;36mzmq.backend.cython.socket.Socket.recv (zmq/backend/cython/socket.c:7683)\u001b[0;34m()\u001b[0m\n",
      "\u001b[0;32mzmq/backend/cython/socket.pyx\u001b[0m in \u001b[0;36mzmq.backend.cython.socket.Socket.recv (zmq/backend/cython/socket.c:7460)\u001b[0;34m()\u001b[0m\n",
      "\u001b[0;32mzmq/backend/cython/socket.pyx\u001b[0m in \u001b[0;36mzmq.backend.cython.socket._recv_copy (zmq/backend/cython/socket.c:2344)\u001b[0;34m()\u001b[0m\n",
      "\u001b[0;32m/home/user/WeatheForecast/lib/python3.5/site-packages/zmq/backend/cython/checkrc.pxd\u001b[0m in \u001b[0;36mzmq.backend.cython.checkrc._check_rc (zmq/backend/cython/socket.c:9621)\u001b[0;34m()\u001b[0m\n",
      "\u001b[0;31mKeyboardInterrupt\u001b[0m: ",
      "\nDuring handling of the above exception, another exception occurred:\n",
      "\u001b[0;31mKeyboardInterrupt\u001b[0m                         Traceback (most recent call last)",
      "\u001b[0;32m<ipython-input-15-e3efd4cdc2da>\u001b[0m in \u001b[0;36m<module>\u001b[0;34m()\u001b[0m\n\u001b[1;32m      3\u001b[0m \u001b[0;32mwhile\u001b[0m\u001b[0;34m(\u001b[0m\u001b[0mflag\u001b[0m\u001b[0;34m)\u001b[0m\u001b[0;34m:\u001b[0m\u001b[0;34m\u001b[0m\u001b[0m\n\u001b[1;32m      4\u001b[0m     \u001b[0mold_category\u001b[0m \u001b[0;34m=\u001b[0m \u001b[0;32mNone\u001b[0m\u001b[0;34m\u001b[0m\u001b[0m\n\u001b[0;32m----> 5\u001b[0;31m     \u001b[0mquery\u001b[0m \u001b[0;34m=\u001b[0m \u001b[0minput\u001b[0m\u001b[0;34m(\u001b[0m\u001b[0;34m'Hello! What do you want to know ? '\u001b[0m\u001b[0;34m)\u001b[0m\u001b[0;34m\u001b[0m\u001b[0m\n\u001b[0m\u001b[1;32m      6\u001b[0m     \u001b[0mgreet\u001b[0m \u001b[0;34m=\u001b[0m \u001b[0mcheck_for_greeting\u001b[0m\u001b[0;34m(\u001b[0m\u001b[0mquery\u001b[0m\u001b[0;34m)\u001b[0m\u001b[0;34m\u001b[0m\u001b[0m\n\u001b[1;32m      7\u001b[0m     \u001b[0;32mwhile\u001b[0m \u001b[0mgreet\u001b[0m \u001b[0;34m!=\u001b[0m \u001b[0;34m'Nothing'\u001b[0m\u001b[0;34m:\u001b[0m\u001b[0;34m\u001b[0m\u001b[0m\n",
      "\u001b[0;32m/home/user/WeatheForecast/lib/python3.5/site-packages/ipykernel/kernelbase.py\u001b[0m in \u001b[0;36mraw_input\u001b[0;34m(self, prompt)\u001b[0m\n\u001b[1;32m    703\u001b[0m             \u001b[0mself\u001b[0m\u001b[0;34m.\u001b[0m\u001b[0m_parent_ident\u001b[0m\u001b[0;34m,\u001b[0m\u001b[0;34m\u001b[0m\u001b[0m\n\u001b[1;32m    704\u001b[0m             \u001b[0mself\u001b[0m\u001b[0;34m.\u001b[0m\u001b[0m_parent_header\u001b[0m\u001b[0;34m,\u001b[0m\u001b[0;34m\u001b[0m\u001b[0m\n\u001b[0;32m--> 705\u001b[0;31m             \u001b[0mpassword\u001b[0m\u001b[0;34m=\u001b[0m\u001b[0;32mFalse\u001b[0m\u001b[0;34m,\u001b[0m\u001b[0;34m\u001b[0m\u001b[0m\n\u001b[0m\u001b[1;32m    706\u001b[0m         )\n\u001b[1;32m    707\u001b[0m \u001b[0;34m\u001b[0m\u001b[0m\n",
      "\u001b[0;32m/home/user/WeatheForecast/lib/python3.5/site-packages/ipykernel/kernelbase.py\u001b[0m in \u001b[0;36m_input_request\u001b[0;34m(self, prompt, ident, parent, password)\u001b[0m\n\u001b[1;32m    733\u001b[0m             \u001b[0;32mexcept\u001b[0m \u001b[0mKeyboardInterrupt\u001b[0m\u001b[0;34m:\u001b[0m\u001b[0;34m\u001b[0m\u001b[0m\n\u001b[1;32m    734\u001b[0m                 \u001b[0;31m# re-raise KeyboardInterrupt, to truncate traceback\u001b[0m\u001b[0;34m\u001b[0m\u001b[0;34m\u001b[0m\u001b[0m\n\u001b[0;32m--> 735\u001b[0;31m                 \u001b[0;32mraise\u001b[0m \u001b[0mKeyboardInterrupt\u001b[0m\u001b[0;34m\u001b[0m\u001b[0m\n\u001b[0m\u001b[1;32m    736\u001b[0m             \u001b[0;32melse\u001b[0m\u001b[0;34m:\u001b[0m\u001b[0;34m\u001b[0m\u001b[0m\n\u001b[1;32m    737\u001b[0m                 \u001b[0;32mbreak\u001b[0m\u001b[0;34m\u001b[0m\u001b[0m\n",
      "\u001b[0;31mKeyboardInterrupt\u001b[0m: "
     ]
    }
   ],
   "source": [
    "flag = True\n",
    "count = 0\n",
    "while(flag):\n",
    "    old_category = None\n",
    "    query = input('Hello! What do you want to know ? ')\n",
    "    greet = check_for_greeting(query)\n",
    "    while greet != 'Nothing':\n",
    "        new_query = greet + ' How May I assist you ?'\n",
    "        query = input(new_query)\n",
    "        greet = check_for_greeting(query)\n",
    "    question = \"\".join(l for l in query if l not in string.punctuation)\n",
    "    city = get_location(question)\n",
    "    if city == 'No Location' and count == 0:\n",
    "        city = input('Please provide your location')\n",
    "    elif city == 'No Location' and count != 0:\n",
    "        city = old_city\n",
    "        category = old_category\n",
    "    else:\n",
    "        count = 0\n",
    "        print('Getting details for:',city[2:])\n",
    "    day_of_week = get_day_of_week(question)\n",
    "    weather,city,category = get_weather(city,day_of_week,old_category)\n",
    "    if weather == None:\n",
    "        print('Cannnot predict for data more than 5 days')\n",
    "        exit\n",
    "    print(weather)\n",
    "    old_city= city\n",
    "    old_category = category\n",
    "    count += 1"
   ]
  }
 ],
 "metadata": {
  "kernelspec": {
   "display_name": "Python 3",
   "language": "python",
   "name": "python3"
  },
  "language_info": {
   "codemirror_mode": {
    "name": "ipython",
    "version": 3
   },
   "file_extension": ".py",
   "mimetype": "text/x-python",
   "name": "python",
   "nbconvert_exporter": "python",
   "pygments_lexer": "ipython3",
   "version": "3.5.2"
  }
 },
 "nbformat": 4,
 "nbformat_minor": 2
}
